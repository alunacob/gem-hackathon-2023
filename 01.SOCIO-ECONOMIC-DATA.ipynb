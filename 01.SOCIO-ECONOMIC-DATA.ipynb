{
 "cells": [
  {
   "cell_type": "code",
   "execution_count": null,
   "metadata": {},
   "outputs": [],
   "source": [
    "!pip install world_bank_data --upgrade plotly itables tqdm descartes"
   ]
  },
  {
   "cell_type": "code",
   "execution_count": null,
   "metadata": {},
   "outputs": [],
   "source": [
    "import pandas as pd\n",
    "import numpy as np\n",
    "import plotly\n",
    "import plotly.offline as offline\n",
    "import world_bank_data as wb\n",
    "from matplotlib import pyplot as plt\n",
    "import seaborn as sns\n",
    "from itables import init_notebook_mode\n",
    "from tqdm import tqdm\n",
    "import math \n",
    "\n",
    "init_notebook_mode(all_interactive=True)\n",
    "\n",
    "import statsmodels.api as sm\n",
    "import datetime as dt\n",
    "\n",
    "\n",
    "from sklearn.cluster import KMeans\n",
    "#import sklearn.cluster.hierarchical as hclust\n",
    "from sklearn import preprocessing\n",
    "\n",
    "\n",
    "pd.set_option('display.max_rows', 50)\n",
    "offline.init_notebook_mode()"
   ]
  },
  {
   "cell_type": "code",
   "execution_count": null,
   "metadata": {},
   "outputs": [],
   "source": [
    "indices_to_crawl = [\n",
    "    'VC.IDP.TOCV', # Internally displaced persons, total displaced by conflict and violence (number of people) --> We should normalize it by Total population\n",
    "    'IQ.CPA.TRAN.XQ', # CPIA transparency, accountability, and corruption in the public sector rating (1=low to 6=high)\n",
    "    'SP.DYN.AMRT.FE', # Mortality rate, adult, female (per 1,000 female adults)\n",
    "    'SP.DYN.AMRT.MA', # Mortality rate, adult, male (per 1,000 male adults)\n",
    "    'SN.ITK.SVFI.ZS', # Prevalence of severe food insecurity in the population (%)\n",
    "    'NY.GDP.PCAP.CD', # GDP per capita (current US$)\n",
    "    'NY.GDP.DEFL.KD.ZG', # Inflation, GDP deflator (annual %)\n",
    "    'SL.UEM.TOTL.FE.ZS', # Unemployment, female (% of female labor force) (modeled ILO estimate)\n",
    "    'SL.UEM.TOTL.MA.ZS', # Unemployment, male (% of male labor force) (modeled ILO estimate)\n",
    "    'EG.ELC.ACCS.ZS', # Access to electricity (% of population)\n",
    "    'ER.H2O.FWST.ZS', # Level of water stress: freshwater withdrawal as a proportion of available freshwater resources\n",
    "    'SP.POP.TOTL', # Total Population\n",
    "    'SP.POP.GROW', # Population growth (annual %)\n",
    "    'EN.POP.DNST', # Population density (people per sq. km of land area)\n",
    "    'SP.RUR.TOTL', # Total Rural Population\n",
    "    'SP.DYN.CBRT.IN', # Birth rate, crude (per 1,000 people)\n",
    "    'SP.DYN.LE00.IN', # Life expectancy at birth, total (years)\t\n",
    "    'SL.UEM.TOTL.ZS', # Unemployment, total (% of total labor force) (modeled ILO estimate)\n",
    "    'SH.STA.WASH.P5', # Mortality rate attributed to unsafe water, unsafe sanitation and lack of hygiene (per 100,000 population)\n",
    "\n",
    "    'NE.EXP.GNFS.ZS', # Exports of goods and services (% of GDP)\n",
    "    'NE.IMP.GNFS.ZS', # Imports of goods and services (% of GDP)\n",
    "\n",
    "    'AG.YLD.CREL.KG', # Cereal yield (kg per hectare)\n",
    "    'SL.AGR.EMPL.ZS', # Employment in agriculture (% of total employment) (modeled ILO estimate)\n",
    "    #'VC.IDP.NWDS', # Internally displaced persons, new displacement associated with disasters (number of cases)\n",
    "    #'VC.IDP.NWCV', # Internally displaced persons, new displacement associated with conflict and violence (number of cases)\n",
    "    #'AG.LND.PRCP.MM', # Average precipitation in depth (mm per year)\n",
    "    #'EN.CLC.MDAT.ZS', # Droughts, floods, extreme temperatures (% of population, average 1990-2009)\n",
    "    #'ER.H2O.FWST.ZS', # Level of water stress: freshwater withdrawal as a proportion of available freshwater resources\n",
    "    #'SI.POV.GINI', # Gini index (World Bank estimate)\n",
    "    'SE.PRM.CMPT.ZS', # Primary completion rate, total (% of relevant age group)\n",
    "    #'HD.HCI.OVRL', # Human Capital Index (HCI) (scale 0-1)\n",
    "    'AG.LND.ARBL.ZS', # Arable land (% of land area)\n",
    "\n",
    "    'IQ.CPA.PADM.XQ', # CPIA quality of public administration rating (1=low to 6=high)\n",
    "    'IQ.CPA.GNDR.XQ' # CPIA gender equality rating (1=low to 6=high)\n",
    "                   ]\n",
    "exclusions_list = []\n",
    "\n",
    "sahel_countries = ['BFA','CMR','TCD','GMB','MLI','MRT','NER','NGA','SEN','CAF']\n",
    "\n",
    "filtered_indices = list(set(indices_to_crawl) - set(exclusions_list))\n",
    "filtered_indices"
   ]
  },
  {
   "cell_type": "code",
   "execution_count": null,
   "metadata": {},
   "outputs": [],
   "source": [
    "indices_to_crawl_text = {\n",
    "    'VC.IDP.TOCV' : 'Internally displaced persons, total displaced by conflict and violence (number of people)',\n",
    "    'IQ.CPA.TRAN.XQ' : 'CPIA transparency, accountability, and corruption in the public sector rating (1=low to 6=high)',\n",
    "    'SP.DYN.AMRT.FE' : 'Mortality rate, adult, female (per 1,000 female adults)',\n",
    "    'SP.DYN.AMRT.MA' : 'Mortality rate, adult, male (per 1,000 male adults)',\n",
    "    'SN.ITK.SVFI.ZS' : 'Prevalence of severe food insecurity in the population (%)',\n",
    "    'NY.GDP.PCAP.CD' : 'GDP per capita (current US$)',\n",
    "    'NY.GDP.DEFL.KD.ZG' : 'Inflation, GDP deflator (annual %)',\n",
    "    'SL.UEM.TOTL.FE.ZS' : 'Unemployment, female (% of female labor force) (modeled ILO estimate)',\n",
    "    'SL.UEM.TOTL.MA.ZS' : 'Unemployment, male (% of male labor force) (modeled ILO estimate)',\n",
    "    'EG.ELC.ACCS.ZS' : 'Access to electricity (% of population)',\n",
    "    'ER.H2O.FWST.ZS' : 'Level of water stress: freshwater withdrawal as a proportion of available freshwater resources',\n",
    "    'SP.POP.TOTL' : 'Total Population',\n",
    "    'SP.POP.GROW' : 'Population growth (annual %)',\n",
    "    'EN.POP.DNST' : 'Population density (people per sq. km of land area)',\n",
    "    'SP.RUR.TOTL' : 'Total Rural Population',\n",
    "    'SP.DYN.CBRT.IN' : 'Birth rate, crude (per 1,000 people)',\n",
    "    'SP.DYN.LE00.IN' : 'Life expectancy at birth, total (years)',\n",
    "    'SL.UEM.TOTL.ZS' : 'Unemployment, total (% of total labor force) (modeled ILO estimate)',\n",
    "    'SH.STA.WASH.P5' : 'Mortality rate attributed to unsafe water, unsafe sanitation and lack of hygiene (per 100,000 population)',\n",
    "\n",
    "    'NE.EXP.GNFS.ZS' : 'Exports of goods and services (% of GDP)',\n",
    "    'NE.IMP.GNFS.ZS' : 'Imports of goods and services (% of GDP)',\n",
    "\n",
    "    'AG.YLD.CREL.KG' : 'Cereal yield (kg per hectare)',\n",
    "    'SL.AGR.EMPL.ZS' : 'Employment in agriculture (% of total employment) (modeled ILO estimate)',\n",
    "    #'VC.IDP.NWDS', # Internally displaced persons, new displacement associated with disasters (number of cases)\n",
    "    #'VC.IDP.NWCV', # Internally displaced persons, new displacement associated with conflict and violence (number of cases)\n",
    "    #'AG.LND.PRCP.MM', # Average precipitation in depth (mm per year)\n",
    "    #'EN.CLC.MDAT.ZS', # Droughts, floods, extreme temperatures (% of population, average 1990-2009)\n",
    "    #'ER.H2O.FWST.ZS', # Level of water stress: freshwater withdrawal as a proportion of available freshwater resources\n",
    "    #'SI.POV.GINI', # Gini index (World Bank estimate)\n",
    "    'SE.PRM.CMPT.ZS' : 'Primary completion rate, total (% of relevant age group)',\n",
    "    #'HD.HCI.OVRL', # Human Capital Index (HCI) (scale 0-1)\n",
    "    'AG.LND.ARBL.ZS' : 'Arable land (% of land area)',\n",
    "\n",
    "    'IQ.CPA.PADM.XQ' : 'CPIA quality of public administration rating (1=low to 6=high)',\n",
    "    'IQ.CPA.GNDR.XQ' : 'CPIA gender equality rating (1=low to 6=high)'\n",
    "}"
   ]
  },
  {
   "cell_type": "code",
   "execution_count": null,
   "metadata": {},
   "outputs": [],
   "source": [
    "all_values = pd.DataFrame({serie_id: wb.get_series(serie_id, id_or_value='id', simplify_index=True, date='2000:2022', gapfil='Y')\n",
    "                           for serie_id in tqdm(filtered_indices)})\n",
    "all_values"
   ]
  },
  {
   "cell_type": "code",
   "execution_count": null,
   "metadata": {},
   "outputs": [],
   "source": [
    "\n",
    "all_values = all_values.reset_index()\n",
    "sahel_values = all_values[all_values['Country'].isin(sahel_countries)]\n",
    "#sahel_values = sahel_values.drop('index', axis=1)\n",
    "sahel_values = sahel_values.set_index(['Country', 'Year'])\n",
    "sahel_values"
   ]
  },
  {
   "cell_type": "code",
   "execution_count": null,
   "metadata": {},
   "outputs": [],
   "source": [
    "sahel_values = sahel_values.reset_index()\n",
    "\n",
    "\n",
    "sahel_values['VC.IDP.TOCV'] = 1000 * sahel_values['VC.IDP.TOCV'] / dfcluster['SP.POP.TOTL'] # normalizing per 1000 habitants\n"
   ]
  },
  {
   "cell_type": "code",
   "execution_count": null,
   "metadata": {},
   "outputs": [],
   "source": [
    "from IPython.display import display, HTML\n",
    "display(HTML(\"<style>.container { width:100% !important; }</style>\"))"
   ]
  },
  {
   "cell_type": "code",
   "execution_count": null,
   "metadata": {},
   "outputs": [],
   "source": [
    "sahel_values['date']  = sahel_values.apply(lambda x: dt.datetime(year = int(x.Year), month=1, day=1), axis=1)\n",
    "sahel_values.set_index('date')\n",
    "\n",
    "sns.set_style(\"darkgrid\")\n",
    "\n",
    "fig, axes = plt.subplots(len(indices_to_crawl_text.items()), 2, figsize=(25, 5))\n",
    "\n",
    "for index, var in indices_to_crawl_text.items():\n",
    "   \n",
    "    i=0\n",
    "    for key, group in sahel_values.groupby('Country'):\n",
    "        \n",
    "        #group['5 years average'] = group[index].rolling(window=5).mean()\n",
    "        fig.suptitle(\"%s : %s\" % (key,var))\n",
    "        \n",
    "        sns.lineplot(x='date', y=index, data=group, ax= axes[i,0], label=var) \n",
    "        sns.violinplot(x=index, data=group, ax=axes[i,1])\n",
    "        sns.rugplot(x=index, data=group, height=.03, color='darkblue',ax=axes[i,1])\n",
    "        \n",
    "        axes[i,0].set_title('Time Series data')\n",
    "        axes[i,1].set_title('Violin plot')\n",
    "        \n",
    "    \n",
    "        fig.tight_layout()   \n",
    "    i = i+1"
   ]
  },
  {
   "cell_type": "code",
   "execution_count": null,
   "metadata": {},
   "outputs": [],
   "source": [
    "sns.pairplot(dfcluster,hue='Country')"
   ]
  },
  {
   "cell_type": "code",
   "execution_count": null,
   "metadata": {},
   "outputs": [],
   "source": []
  }
 ],
 "metadata": {
  "kernelspec": {
   "display_name": "Python 3",
   "language": "python",
   "name": "python3"
  },
  "language_info": {
   "codemirror_mode": {
    "name": "ipython",
    "version": 3
   },
   "file_extension": ".py",
   "mimetype": "text/x-python",
   "name": "python",
   "nbconvert_exporter": "python",
   "pygments_lexer": "ipython3",
   "version": "3.8.6"
  }
 },
 "nbformat": 4,
 "nbformat_minor": 4
}
